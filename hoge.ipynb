{
 "cells": [
  {
   "cell_type": "code",
   "execution_count": 12,
   "metadata": {},
   "outputs": [
    {
     "name": "stdout",
     "output_type": "stream",
     "text": [
      "Note: you may need to restart the kernel to use updated packages.Collecting requests\n",
      "  Downloading requests-2.28.2-py3-none-any.whl (62 kB)\n",
      "     ---------------------------------------- 62.8/62.8 kB 3.3 MB/s eta 0:00:00\n",
      "Collecting charset-normalizer<4,>=2\n",
      "  Downloading charset_normalizer-3.0.1-cp311-cp311-win_amd64.whl (96 kB)\n",
      "     ---------------------------------------- 96.0/96.0 kB 5.7 MB/s eta 0:00:00\n",
      "Collecting idna<4,>=2.5\n",
      "  Downloading idna-3.4-py3-none-any.whl (61 kB)\n",
      "     ---------------------------------------- 61.5/61.5 kB ? eta 0:00:00\n",
      "Collecting urllib3<1.27,>=1.21.1\n",
      "  Downloading urllib3-1.26.14-py2.py3-none-any.whl (140 kB)\n",
      "     -------------------------------------- 140.6/140.6 kB 8.2 MB/s eta 0:00:00\n",
      "Collecting certifi>=2017.4.17\n",
      "  Downloading certifi-2022.12.7-py3-none-any.whl (155 kB)\n",
      "     -------------------------------------- 155.3/155.3 kB 9.7 MB/s eta 0:00:00\n",
      "Installing collected packages: charset-normalizer, urllib3, idna, certifi, requests\n",
      "Successfully installed certifi-2022.12.7 charset-normalizer-3.0.1 idna-3.4 requests-2.28.2 urllib3-1.26.14\n",
      "\n"
     ]
    },
    {
     "name": "stderr",
     "output_type": "stream",
     "text": [
      "  WARNING: The script normalizer.exe is installed in 'c:\\Users\\yuish\\AppData\\Local\\Programs\\Python\\Python311\\Scripts' which is not on PATH.\n",
      "  Consider adding this directory to PATH or, if you prefer to suppress this warning, use --no-warn-script-location.\n",
      "\n",
      "[notice] A new release of pip available: 22.3.1 -> 23.0\n",
      "[notice] To update, run: python.exe -m pip install --upgrade pip\n"
     ]
    }
   ],
   "source": [
    "pip install requests"
   ]
  },
  {
   "cell_type": "code",
   "execution_count": 14,
   "metadata": {},
   "outputs": [
    {
     "name": "stdout",
     "output_type": "stream",
     "text": [
      "Collecting pandasNote: you may need to restart the kernel to use updated packages.\n"
     ]
    },
    {
     "name": "stderr",
     "output_type": "stream",
     "text": [
      "  WARNING: The script f2py.exe is installed in 'c:\\Users\\yuish\\AppData\\Local\\Programs\\Python\\Python311\\Scripts' which is not on PATH.\n",
      "  Consider adding this directory to PATH or, if you prefer to suppress this warning, use --no-warn-script-location.\n",
      "\n",
      "[notice] A new release of pip available: 22.3.1 -> 23.0\n",
      "[notice] To update, run: python.exe -m pip install --upgrade pip\n"
     ]
    },
    {
     "name": "stdout",
     "output_type": "stream",
     "text": [
      "\n",
      "  Downloading pandas-1.5.3-cp311-cp311-win_amd64.whl (10.3 MB)\n",
      "     --------------------------------------- 10.3/10.3 MB 13.9 MB/s eta 0:00:00\n",
      "Requirement already satisfied: python-dateutil>=2.8.1 in c:\\users\\yuish\\appdata\\roaming\\python\\python311\\site-packages (from pandas) (2.8.2)\n",
      "Collecting pytz>=2020.1\n",
      "  Downloading pytz-2022.7.1-py2.py3-none-any.whl (499 kB)\n",
      "     ------------------------------------- 499.4/499.4 kB 15.8 MB/s eta 0:00:00\n",
      "Collecting numpy>=1.21.0\n",
      "  Downloading numpy-1.24.2-cp311-cp311-win_amd64.whl (14.8 MB)\n",
      "     --------------------------------------- 14.8/14.8 MB 14.2 MB/s eta 0:00:00\n",
      "Requirement already satisfied: six>=1.5 in c:\\users\\yuish\\appdata\\roaming\\python\\python311\\site-packages (from python-dateutil>=2.8.1->pandas) (1.16.0)\n",
      "Installing collected packages: pytz, numpy, pandas\n",
      "Successfully installed numpy-1.24.2 pandas-1.5.3 pytz-2022.7.1\n"
     ]
    }
   ],
   "source": [
    "pip install pandas"
   ]
  },
  {
   "cell_type": "code",
   "execution_count": 21,
   "metadata": {},
   "outputs": [
    {
     "name": "stdout",
     "output_type": "stream",
     "text": [
      "     category1 category2 category3   categoryId        categoryName\n",
      "2           32                               32              定番の魚料理\n",
      "13          11                               11                   魚\n",
      "67          11       445                 11-445              明太子・魚卵\n",
      "68          11       446                 11-446              その他の魚介\n",
      "347         32       339                 32-339                  煮魚\n",
      "351         32       343                 32-343                 焼き魚\n",
      "357         32       349                 32-349             その他の魚料理\n",
      "409         36       495                 36-495               簡単魚料理\n",
      "635         11        78       523    11-78-523                  赤魚\n",
      "647         11        78      2027   11-78-2027                 太刀魚\n",
      "978         18       184       949   18-184-949              魚介のサラダ\n",
      "1300        26       261       414   26-261-414            魚介類を使わない\n",
      "1315        26       262      1078  26-262-1078           魚のおもてなし料理\n",
      "1580        32       339      1277  32-339-1277              その他の煮魚\n",
      "1586        32       343      1285  32-343-1285                 焼き魚\n",
      "1592        32       349      1291  32-349-1291             その他の魚料理\n",
      "1780        36       495      1674  36-495-1674               簡単魚料理\n",
      "1819        40       512      1711  40-512-1711        圧力鍋で作る魚介のおかず\n",
      "1828        40       514      1720  40-514-1720  シリコンスチーマーで作る魚介のおかず\n",
      "1846        40       519      1737  40-519-1737         電子レンジで作る焼き魚\n",
      "1853        40       521      1744  40-521-1744      ホーロー鍋で作る魚介のおかず\n"
     ]
    }
   ],
   "source": [
    "import requests\n",
    "import json\n",
    "import time\n",
    "import pandas as pd\n",
    "from pprint import pprint\n",
    "\n",
    "\n",
    "# 1. 楽天レシピのレシピカテゴリ一覧を取得する\n",
    "\n",
    "res = requests.get('https://app.rakuten.co.jp/services/api/Recipe/CategoryList/20170426?applicationId=1050436635711957152')\n",
    "\n",
    "json_data = json.loads(res.text)\n",
    "\n",
    "parent_dict = {} # mediumカテゴリの親カテゴリの辞書\n",
    "\n",
    "df = pd.DataFrame(columns=['category1','category2','category3','categoryId','categoryName'])\n",
    "\n",
    "for category in json_data['result']['large']:\n",
    "    df = pd.concat([df, pd.DataFrame({'category1':category['categoryId'],'category2':\"\",'category3':\"\",'categoryId':category['categoryId'],'categoryName':category['categoryName']}, index=[0])], ignore_index=True)\n",
    "\n",
    "for category in json_data['result']['medium']:\n",
    "    df = pd.concat([df, pd.DataFrame({'category1':category['parentCategoryId'],'category2':category['categoryId'],'category3':\"\",'categoryId':str(category['parentCategoryId'])+\"-\"+str(category['categoryId']),'categoryName':category['categoryName']}, index=[0])], ignore_index=True)\n",
    "    parent_dict[str(category['categoryId'])] = category['parentCategoryId']\n",
    "\n",
    "for category in json_data['result']['small']:\n",
    "    df = pd.concat([df,pd.DataFrame({'category1':parent_dict[category['parentCategoryId']],'category2':category['parentCategoryId'],'category3':category['categoryId'],'categoryId':parent_dict[category['parentCategoryId']]+\"-\"+str(category['parentCategoryId'])+\"-\"+str(category['categoryId']),'categoryName':category['categoryName']}, index=[0])], ignore_index=True)\n",
    "\n",
    "# 2. キーワードからカテゴリを抽出する\n",
    "df_keyword = df.query('categoryName.str.contains(\"魚\")', engine='python')\n",
    "\n",
    "pprint(df_keyword)"
   ]
  }
 ],
 "metadata": {
  "kernelspec": {
   "display_name": "Python 3",
   "language": "python",
   "name": "python3"
  },
  "language_info": {
   "codemirror_mode": {
    "name": "ipython",
    "version": 3
   },
   "file_extension": ".py",
   "mimetype": "text/x-python",
   "name": "python",
   "nbconvert_exporter": "python",
   "pygments_lexer": "ipython3",
   "version": "3.11.1"
  },
  "orig_nbformat": 4,
  "vscode": {
   "interpreter": {
    "hash": "dd1d59c83e837965be7227ae695fc11366ce0eabb69d3db81d681c948ee75fbe"
   }
  }
 },
 "nbformat": 4,
 "nbformat_minor": 2
}
